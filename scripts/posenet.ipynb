{
 "cells": [
  {
   "cell_type": "code",
   "execution_count": null,
   "metadata": {
    "trusted": true
   },
   "outputs": [],
   "source": [
    "import torch\n",
    "import torch.nn as nn\n",
    "import torch.optim as optim\n",
    "from torch.utils.data import Dataset, DataLoader\n",
    "from torchvision import transforms, models\n",
    "from pycocotools.coco import COCO\n",
    "import cv2\n",
    "import numpy as np\n",
    "import os\n",
    "import matplotlib.pyplot as plt\n",
    "from models import PoseNet\n",
    "from utils import CocoKeypoints, VideoCreator, convert_to_modern_mp4, detect_keypoints\n",
    "\n",
    "import warnings\n",
    "warnings.filterwarnings(\"ignore\")"
   ]
  },
  {
   "cell_type": "code",
   "execution_count": null,
   "metadata": {
    "trusted": true
   },
   "outputs": [],
   "source": [
    "coco_root = '/kaggle/input/coco-2017-dataset/coco2017'\n",
    "train_img_dir = os.path.join(coco_root, 'train2017')\n",
    "train_ann_file = os.path.join(coco_root, 'annotations/person_keypoints_train2017.json')\n",
    "\n",
    "dataset = CocoKeypoints(train_img_dir, train_ann_file)\n",
    "train_loader = DataLoader(dataset, batch_size=32, shuffle=True)"
   ]
  },
  {
   "cell_type": "code",
   "execution_count": null,
   "metadata": {
    "trusted": true
   },
   "outputs": [],
   "source": [
    "from IPython.display import FileLink\n",
    "\n",
    "def train(model, train_loader, epochs=10, lr=0.001, device='cuda'):\n",
    "    model.to(device)\n",
    "    criterion = nn.MSELoss()\n",
    "    optimizer = optim.Adam(model.parameters(), lr=lr)\n",
    "    \n",
    "    for epoch in range(epochs):\n",
    "        model.train()\n",
    "        running_loss = 0.0\n",
    "\n",
    "        for i, (images, heatmaps) in enumerate(train_loader):\n",
    "            images = images.to(device)\n",
    "            heatmaps = heatmaps.to(device)\n",
    "\n",
    "            optimizer.zero_grad()\n",
    "            outputs = model(images)\n",
    "            loss = criterion(outputs, heatmaps)\n",
    "            loss.backward()\n",
    "            optimizer.step()\n",
    "\n",
    "            running_loss += loss.item()\n",
    "            if i % 50 == 49:\n",
    "                print(f'Epoch {epoch+1}, Batch {i+1}: Loss {running_loss/50:.4f}')\n",
    "                running_loss = 0.0\n",
    "\n",
    "        # Save the model after each epoch\n",
    "        model_path = f'model_epoch_{epoch+1}.pth'\n",
    "        torch.save(model.state_dict(), model_path)\n",
    "        print(f'Model saved: {model_path}')\n",
    "        \n",
    "        # Generate a download link\n",
    "        display(FileLink(model_path))\n",
    "\n",
    "        print(f'Epoch {epoch+1} completed')\n",
    "    \n",
    "    return model"
   ]
  },
  {
   "cell_type": "code",
   "execution_count": 16,
   "metadata": {
    "execution": {
     "iopub.execute_input": "2025-04-07T09:31:54.109692Z",
     "iopub.status.busy": "2025-04-07T09:31:54.109376Z",
     "iopub.status.idle": "2025-04-07T13:00:53.681852Z",
     "shell.execute_reply": "2025-04-07T13:00:53.681160Z",
     "shell.execute_reply.started": "2025-04-07T09:31:54.109667Z"
    },
    "trusted": true
   },
   "outputs": [
    {
     "name": "stdout",
     "output_type": "stream",
     "text": [
      "Epoch 1, Batch 50: Loss 2.1402\n",
      "Epoch 1, Batch 100: Loss 0.0225\n",
      "Epoch 1, Batch 150: Loss 0.0114\n",
      "Epoch 1, Batch 200: Loss 0.0071\n",
      "Epoch 1, Batch 250: Loss 0.0053\n",
      "Epoch 1, Batch 300: Loss 0.0047\n",
      "Epoch 1, Batch 350: Loss 0.0048\n",
      "Epoch 1, Batch 400: Loss 0.0045\n",
      "Epoch 1, Batch 450: Loss 0.0038\n",
      "Epoch 1, Batch 500: Loss 0.0036\n",
      "Epoch 1, Batch 550: Loss 0.0034\n",
      "Epoch 1, Batch 600: Loss 0.0032\n",
      "Epoch 1, Batch 650: Loss 0.0036\n",
      "Epoch 1, Batch 700: Loss 0.0034\n",
      "Epoch 1, Batch 750: Loss 0.0032\n",
      "Epoch 1, Batch 800: Loss 0.0032\n",
      "Epoch 1, Batch 850: Loss 0.0030\n",
      "Epoch 1, Batch 900: Loss 0.0031\n",
      "Epoch 1, Batch 950: Loss 0.0030\n",
      "Epoch 1, Batch 1000: Loss 0.0030\n",
      "Epoch 1, Batch 1050: Loss 0.0032\n",
      "Epoch 1, Batch 1100: Loss 0.0032\n",
      "Epoch 1, Batch 1150: Loss 0.0029\n",
      "Epoch 1, Batch 1200: Loss 0.0029\n",
      "Epoch 1, Batch 1250: Loss 0.0027\n",
      "Epoch 1, Batch 1300: Loss 0.0028\n",
      "Epoch 1, Batch 1350: Loss 0.0028\n",
      "Epoch 1, Batch 1400: Loss 0.0027\n",
      "Epoch 1, Batch 1450: Loss 0.0027\n",
      "Epoch 1, Batch 1500: Loss 0.0027\n",
      "Epoch 1, Batch 1550: Loss 0.0027\n",
      "Epoch 1, Batch 1600: Loss 0.0029\n",
      "Epoch 1, Batch 1650: Loss 0.0027\n",
      "Epoch 1, Batch 1700: Loss 0.0027\n",
      "Epoch 1, Batch 1750: Loss 0.0027\n",
      "Epoch 1, Batch 1800: Loss 0.0027\n",
      "Epoch 1, Batch 1850: Loss 0.0027\n",
      "Epoch 1, Batch 1900: Loss 0.0026\n",
      "Epoch 1, Batch 1950: Loss 0.0027\n",
      "Epoch 1, Batch 2000: Loss 0.0026\n",
      "Model saved: model_epoch_1.pth\n"
     ]
    },
    {
     "data": {
      "text/html": [
       "<a href='model_epoch_1.pth' target='_blank'>model_epoch_1.pth</a><br>"
      ],
      "text/plain": [
       "/kaggle/working/model_epoch_1.pth"
      ]
     },
     "metadata": {},
     "output_type": "display_data"
    },
    {
     "name": "stdout",
     "output_type": "stream",
     "text": [
      "Epoch 1 completed\n",
      "Epoch 2, Batch 50: Loss 0.0026\n",
      "Epoch 2, Batch 100: Loss 0.0028\n",
      "Epoch 2, Batch 150: Loss 0.0027\n",
      "Epoch 2, Batch 200: Loss 0.0026\n",
      "Epoch 2, Batch 250: Loss 0.0026\n",
      "Epoch 2, Batch 300: Loss 0.0027\n",
      "Epoch 2, Batch 350: Loss 0.0026\n",
      "Epoch 2, Batch 400: Loss 0.0027\n",
      "Epoch 2, Batch 450: Loss 0.0026\n",
      "Epoch 2, Batch 500: Loss 0.0027\n",
      "Epoch 2, Batch 550: Loss 0.0028\n",
      "Epoch 2, Batch 600: Loss 0.0029\n",
      "Epoch 2, Batch 650: Loss 0.0027\n",
      "Epoch 2, Batch 700: Loss 0.0028\n",
      "Epoch 2, Batch 750: Loss 0.0027\n",
      "Epoch 2, Batch 800: Loss 0.0027\n",
      "Epoch 2, Batch 850: Loss 0.0027\n",
      "Epoch 2, Batch 900: Loss 0.0026\n",
      "Epoch 2, Batch 950: Loss 0.0027\n",
      "Epoch 2, Batch 1000: Loss 0.0026\n",
      "Epoch 2, Batch 1050: Loss 0.0026\n",
      "Epoch 2, Batch 1100: Loss 0.0026\n",
      "Epoch 2, Batch 1150: Loss 0.0026\n",
      "Epoch 2, Batch 1200: Loss 0.0027\n",
      "Epoch 2, Batch 1250: Loss 0.0026\n",
      "Epoch 2, Batch 1300: Loss 0.0026\n",
      "Epoch 2, Batch 1350: Loss 0.0026\n",
      "Epoch 2, Batch 1400: Loss 0.0031\n",
      "Epoch 2, Batch 1450: Loss 0.0028\n",
      "Epoch 2, Batch 1500: Loss 0.0028\n",
      "Epoch 2, Batch 1550: Loss 0.0028\n",
      "Epoch 2, Batch 1600: Loss 0.0028\n",
      "Epoch 2, Batch 1650: Loss 0.0027\n",
      "Epoch 2, Batch 1700: Loss 0.0028\n",
      "Epoch 2, Batch 1750: Loss 0.0030\n",
      "Epoch 2, Batch 1800: Loss 0.0029\n",
      "Epoch 2, Batch 1850: Loss 0.0028\n",
      "Epoch 2, Batch 1900: Loss 0.0029\n",
      "Epoch 2, Batch 1950: Loss 0.0030\n",
      "Epoch 2, Batch 2000: Loss 0.0029\n",
      "Model saved: model_epoch_2.pth\n"
     ]
    },
    {
     "data": {
      "text/html": [
       "<a href='model_epoch_2.pth' target='_blank'>model_epoch_2.pth</a><br>"
      ],
      "text/plain": [
       "/kaggle/working/model_epoch_2.pth"
      ]
     },
     "metadata": {},
     "output_type": "display_data"
    },
    {
     "name": "stdout",
     "output_type": "stream",
     "text": [
      "Epoch 2 completed\n",
      "Epoch 3, Batch 50: Loss 0.0031\n",
      "Epoch 3, Batch 100: Loss 0.0031\n",
      "Epoch 3, Batch 150: Loss 0.0029\n",
      "Epoch 3, Batch 200: Loss 0.0034\n",
      "Epoch 3, Batch 250: Loss 0.0030\n",
      "Epoch 3, Batch 300: Loss 0.0031\n",
      "Epoch 3, Batch 350: Loss 0.0030\n",
      "Epoch 3, Batch 400: Loss 0.0031\n",
      "Epoch 3, Batch 450: Loss 0.0032\n",
      "Epoch 3, Batch 500: Loss 0.0028\n",
      "Epoch 3, Batch 550: Loss 0.0032\n",
      "Epoch 3, Batch 600: Loss 0.0031\n",
      "Epoch 3, Batch 650: Loss 0.0031\n",
      "Epoch 3, Batch 700: Loss 0.0029\n",
      "Epoch 3, Batch 750: Loss 0.0034\n",
      "Epoch 3, Batch 800: Loss 0.0032\n",
      "Epoch 3, Batch 850: Loss 0.0031\n",
      "Epoch 3, Batch 900: Loss 0.0031\n",
      "Epoch 3, Batch 950: Loss 0.0030\n",
      "Epoch 3, Batch 1000: Loss 0.0031\n",
      "Epoch 3, Batch 1050: Loss 0.0030\n",
      "Epoch 3, Batch 1100: Loss 0.0030\n",
      "Epoch 3, Batch 1150: Loss 0.0034\n",
      "Epoch 3, Batch 1200: Loss 0.0030\n",
      "Epoch 3, Batch 1250: Loss 0.0030\n",
      "Epoch 3, Batch 1300: Loss 0.0028\n",
      "Epoch 3, Batch 1350: Loss 0.0033\n",
      "Epoch 3, Batch 1400: Loss 0.0029\n",
      "Epoch 3, Batch 1450: Loss 0.0029\n",
      "Epoch 3, Batch 1500: Loss 0.0032\n",
      "Epoch 3, Batch 1550: Loss 0.0028\n",
      "Epoch 3, Batch 1600: Loss 0.0030\n",
      "Epoch 3, Batch 1650: Loss 0.0029\n",
      "Epoch 3, Batch 1700: Loss 0.0032\n",
      "Epoch 3, Batch 1750: Loss 0.0029\n",
      "Epoch 3, Batch 1800: Loss 0.0031\n",
      "Epoch 3, Batch 1850: Loss 0.0030\n",
      "Epoch 3, Batch 1900: Loss 0.0030\n",
      "Epoch 3, Batch 1950: Loss 0.0028\n",
      "Epoch 3, Batch 2000: Loss 0.0029\n",
      "Model saved: model_epoch_3.pth\n"
     ]
    },
    {
     "data": {
      "text/html": [
       "<a href='model_epoch_3.pth' target='_blank'>model_epoch_3.pth</a><br>"
      ],
      "text/plain": [
       "/kaggle/working/model_epoch_3.pth"
      ]
     },
     "metadata": {},
     "output_type": "display_data"
    },
    {
     "name": "stdout",
     "output_type": "stream",
     "text": [
      "Epoch 3 completed\n",
      "Epoch 4, Batch 50: Loss 0.0030\n",
      "Epoch 4, Batch 100: Loss 0.0030\n",
      "Epoch 4, Batch 150: Loss 0.0029\n",
      "Epoch 4, Batch 200: Loss 0.0029\n",
      "Epoch 4, Batch 250: Loss 0.0031\n",
      "Epoch 4, Batch 300: Loss 0.0033\n",
      "Epoch 4, Batch 350: Loss 0.0030\n",
      "Epoch 4, Batch 400: Loss 0.0028\n",
      "Epoch 4, Batch 450: Loss 0.0027\n",
      "Epoch 4, Batch 500: Loss 0.0033\n",
      "Epoch 4, Batch 550: Loss 0.0027\n",
      "Epoch 4, Batch 600: Loss 0.0029\n",
      "Epoch 4, Batch 650: Loss 0.0028\n",
      "Epoch 4, Batch 700: Loss 0.0030\n",
      "Epoch 4, Batch 750: Loss 0.0029\n",
      "Epoch 4, Batch 800: Loss 0.0030\n",
      "Epoch 4, Batch 850: Loss 0.0029\n",
      "Epoch 4, Batch 900: Loss 0.0027\n",
      "Epoch 4, Batch 950: Loss 0.0031\n",
      "Epoch 4, Batch 1000: Loss 0.0028\n",
      "Epoch 4, Batch 1050: Loss 0.0029\n",
      "Epoch 4, Batch 1100: Loss 0.0029\n",
      "Epoch 4, Batch 1150: Loss 0.0028\n",
      "Epoch 4, Batch 1200: Loss 0.0029\n",
      "Epoch 4, Batch 1250: Loss 0.0029\n",
      "Epoch 4, Batch 1300: Loss 0.0029\n",
      "Epoch 4, Batch 1350: Loss 0.0028\n",
      "Epoch 4, Batch 1400: Loss 0.0028\n",
      "Epoch 4, Batch 1450: Loss 0.0029\n",
      "Epoch 4, Batch 1500: Loss 0.0029\n",
      "Epoch 4, Batch 1550: Loss 0.0028\n",
      "Epoch 4, Batch 1600: Loss 0.0030\n",
      "Epoch 4, Batch 1650: Loss 0.0029\n",
      "Epoch 4, Batch 1700: Loss 0.0028\n",
      "Epoch 4, Batch 1750: Loss 0.0028\n",
      "Epoch 4, Batch 1800: Loss 0.0027\n",
      "Epoch 4, Batch 1850: Loss 0.0029\n",
      "Epoch 4, Batch 1900: Loss 0.0028\n",
      "Epoch 4, Batch 1950: Loss 0.0029\n",
      "Epoch 4, Batch 2000: Loss 0.0027\n",
      "Model saved: model_epoch_4.pth\n"
     ]
    },
    {
     "data": {
      "text/html": [
       "<a href='model_epoch_4.pth' target='_blank'>model_epoch_4.pth</a><br>"
      ],
      "text/plain": [
       "/kaggle/working/model_epoch_4.pth"
      ]
     },
     "metadata": {},
     "output_type": "display_data"
    },
    {
     "name": "stdout",
     "output_type": "stream",
     "text": [
      "Epoch 4 completed\n",
      "Epoch 5, Batch 50: Loss 0.0028\n",
      "Epoch 5, Batch 100: Loss 0.0027\n",
      "Epoch 5, Batch 150: Loss 0.0029\n",
      "Epoch 5, Batch 200: Loss 0.0029\n",
      "Epoch 5, Batch 250: Loss 0.0027\n",
      "Epoch 5, Batch 300: Loss 0.0028\n",
      "Epoch 5, Batch 350: Loss 0.0027\n",
      "Epoch 5, Batch 400: Loss 0.0028\n",
      "Epoch 5, Batch 450: Loss 0.0027\n",
      "Epoch 5, Batch 500: Loss 0.0026\n",
      "Epoch 5, Batch 550: Loss 0.0028\n",
      "Epoch 5, Batch 600: Loss 0.0029\n",
      "Epoch 5, Batch 650: Loss 0.0028\n",
      "Epoch 5, Batch 700: Loss 0.0028\n",
      "Epoch 5, Batch 750: Loss 0.0028\n",
      "Epoch 5, Batch 800: Loss 0.0027\n",
      "Epoch 5, Batch 850: Loss 0.0029\n",
      "Epoch 5, Batch 900: Loss 0.0027\n",
      "Epoch 5, Batch 950: Loss 0.0028\n",
      "Epoch 5, Batch 1000: Loss 0.0026\n",
      "Epoch 5, Batch 1050: Loss 0.0026\n",
      "Epoch 5, Batch 1100: Loss 0.0026\n",
      "Epoch 5, Batch 1150: Loss 0.0028\n",
      "Epoch 5, Batch 1200: Loss 0.0027\n",
      "Epoch 5, Batch 1250: Loss 0.0026\n",
      "Epoch 5, Batch 1300: Loss 0.0027\n",
      "Epoch 5, Batch 1350: Loss 0.0026\n",
      "Epoch 5, Batch 1400: Loss 0.0027\n",
      "Epoch 5, Batch 1450: Loss 0.0027\n",
      "Epoch 5, Batch 1500: Loss 0.0027\n",
      "Epoch 5, Batch 1550: Loss 0.0039\n",
      "Epoch 5, Batch 1600: Loss 0.0037\n",
      "Epoch 5, Batch 1650: Loss 0.0027\n",
      "Epoch 5, Batch 1700: Loss 0.0026\n",
      "Epoch 5, Batch 1750: Loss 0.0026\n",
      "Epoch 5, Batch 1800: Loss 0.0026\n",
      "Epoch 5, Batch 1850: Loss 0.0026\n",
      "Epoch 5, Batch 1900: Loss 0.0026\n",
      "Epoch 5, Batch 1950: Loss 0.0026\n",
      "Epoch 5, Batch 2000: Loss 0.0026\n",
      "Model saved: model_epoch_5.pth\n"
     ]
    },
    {
     "data": {
      "text/html": [
       "<a href='model_epoch_5.pth' target='_blank'>model_epoch_5.pth</a><br>"
      ],
      "text/plain": [
       "/kaggle/working/model_epoch_5.pth"
      ]
     },
     "metadata": {},
     "output_type": "display_data"
    },
    {
     "name": "stdout",
     "output_type": "stream",
     "text": [
      "Epoch 5 completed\n",
      "Epoch 6, Batch 50: Loss 0.0027\n",
      "Epoch 6, Batch 100: Loss 0.0026\n",
      "Epoch 6, Batch 150: Loss 0.0026\n",
      "Epoch 6, Batch 200: Loss 0.0026\n",
      "Epoch 6, Batch 250: Loss 0.0027\n",
      "Epoch 6, Batch 300: Loss 0.0026\n",
      "Epoch 6, Batch 350: Loss 0.0027\n",
      "Epoch 6, Batch 400: Loss 0.0027\n",
      "Epoch 6, Batch 450: Loss 0.0026\n",
      "Epoch 6, Batch 500: Loss 0.0027\n",
      "Epoch 6, Batch 550: Loss 0.0027\n",
      "Epoch 6, Batch 600: Loss 0.0028\n",
      "Epoch 6, Batch 650: Loss 0.0027\n",
      "Epoch 6, Batch 700: Loss 0.0027\n",
      "Epoch 6, Batch 750: Loss 0.0027\n",
      "Epoch 6, Batch 800: Loss 0.0027\n",
      "Epoch 6, Batch 850: Loss 0.0027\n",
      "Epoch 6, Batch 900: Loss 0.0027\n",
      "Epoch 6, Batch 950: Loss 0.0026\n",
      "Epoch 6, Batch 1000: Loss 0.0027\n",
      "Epoch 6, Batch 1050: Loss 0.0027\n",
      "Epoch 6, Batch 1100: Loss 0.0026\n",
      "Epoch 6, Batch 1150: Loss 0.0026\n",
      "Epoch 6, Batch 1200: Loss 0.0026\n",
      "Epoch 6, Batch 1250: Loss 0.0026\n",
      "Epoch 6, Batch 1300: Loss 0.0026\n",
      "Epoch 6, Batch 1350: Loss 0.0026\n",
      "Epoch 6, Batch 1400: Loss 0.0026\n",
      "Epoch 6, Batch 1450: Loss 0.0026\n",
      "Epoch 6, Batch 1500: Loss 0.0026\n",
      "Epoch 6, Batch 1550: Loss 0.0026\n",
      "Epoch 6, Batch 1600: Loss 0.0026\n",
      "Epoch 6, Batch 1650: Loss 0.0026\n",
      "Epoch 6, Batch 1700: Loss 0.0026\n",
      "Epoch 6, Batch 1750: Loss 0.0026\n",
      "Epoch 6, Batch 1800: Loss 0.0026\n",
      "Epoch 6, Batch 1850: Loss 0.0026\n",
      "Epoch 6, Batch 1900: Loss 0.0026\n",
      "Epoch 6, Batch 1950: Loss 0.0026\n",
      "Epoch 6, Batch 2000: Loss 0.0025\n",
      "Model saved: model_epoch_6.pth\n"
     ]
    },
    {
     "data": {
      "text/html": [
       "<a href='model_epoch_6.pth' target='_blank'>model_epoch_6.pth</a><br>"
      ],
      "text/plain": [
       "/kaggle/working/model_epoch_6.pth"
      ]
     },
     "metadata": {},
     "output_type": "display_data"
    },
    {
     "name": "stdout",
     "output_type": "stream",
     "text": [
      "Epoch 6 completed\n",
      "Epoch 7, Batch 50: Loss 0.0027\n",
      "Epoch 7, Batch 100: Loss 0.0025\n",
      "Epoch 7, Batch 150: Loss 0.0026\n",
      "Epoch 7, Batch 200: Loss 0.0027\n",
      "Epoch 7, Batch 250: Loss 0.0026\n",
      "Epoch 7, Batch 300: Loss 0.0026\n",
      "Epoch 7, Batch 350: Loss 0.0026\n",
      "Epoch 7, Batch 400: Loss 0.0026\n",
      "Epoch 7, Batch 450: Loss 0.0026\n",
      "Epoch 7, Batch 500: Loss 0.0025\n",
      "Epoch 7, Batch 550: Loss 0.0026\n",
      "Epoch 7, Batch 600: Loss 0.0026\n",
      "Epoch 7, Batch 650: Loss 0.0026\n",
      "Epoch 7, Batch 700: Loss 0.0026\n",
      "Epoch 7, Batch 750: Loss 0.0026\n",
      "Epoch 7, Batch 800: Loss 0.0026\n",
      "Epoch 7, Batch 850: Loss 0.0026\n",
      "Epoch 7, Batch 900: Loss 0.0026\n",
      "Epoch 7, Batch 950: Loss 0.0025\n",
      "Epoch 7, Batch 1000: Loss 0.0026\n",
      "Epoch 7, Batch 1050: Loss 0.0026\n",
      "Epoch 7, Batch 1100: Loss 0.0026\n",
      "Epoch 7, Batch 1150: Loss 0.0025\n",
      "Epoch 7, Batch 1200: Loss 0.0026\n",
      "Epoch 7, Batch 1250: Loss 0.0026\n",
      "Epoch 7, Batch 1300: Loss 0.0025\n",
      "Epoch 7, Batch 1350: Loss 0.0026\n",
      "Epoch 7, Batch 1400: Loss 0.0025\n",
      "Epoch 7, Batch 1450: Loss 0.0026\n",
      "Epoch 7, Batch 1500: Loss 0.0026\n",
      "Epoch 7, Batch 1550: Loss 0.0026\n",
      "Epoch 7, Batch 1600: Loss 0.0026\n",
      "Epoch 7, Batch 1650: Loss 0.0026\n",
      "Epoch 7, Batch 1700: Loss 0.0049\n",
      "Epoch 7, Batch 1750: Loss 0.0026\n",
      "Epoch 7, Batch 1800: Loss 0.0025\n",
      "Epoch 7, Batch 1850: Loss 0.0025\n",
      "Epoch 7, Batch 1900: Loss 0.0025\n",
      "Epoch 7, Batch 1950: Loss 0.0025\n",
      "Epoch 7, Batch 2000: Loss 0.0025\n",
      "Model saved: model_epoch_7.pth\n"
     ]
    },
    {
     "data": {
      "text/html": [
       "<a href='model_epoch_7.pth' target='_blank'>model_epoch_7.pth</a><br>"
      ],
      "text/plain": [
       "/kaggle/working/model_epoch_7.pth"
      ]
     },
     "metadata": {},
     "output_type": "display_data"
    },
    {
     "name": "stdout",
     "output_type": "stream",
     "text": [
      "Epoch 7 completed\n",
      "Epoch 8, Batch 50: Loss 0.0025\n",
      "Epoch 8, Batch 100: Loss 0.0026\n",
      "Epoch 8, Batch 150: Loss 0.0025\n",
      "Epoch 8, Batch 200: Loss 0.0025\n",
      "Epoch 8, Batch 250: Loss 0.0025\n",
      "Epoch 8, Batch 300: Loss 0.0025\n",
      "Epoch 8, Batch 350: Loss 0.0025\n",
      "Epoch 8, Batch 400: Loss 0.0025\n",
      "Epoch 8, Batch 450: Loss 0.0026\n",
      "Epoch 8, Batch 500: Loss 0.0026\n",
      "Epoch 8, Batch 550: Loss 0.0025\n",
      "Epoch 8, Batch 600: Loss 0.0025\n",
      "Epoch 8, Batch 650: Loss 0.0025\n",
      "Epoch 8, Batch 700: Loss 0.0025\n",
      "Epoch 8, Batch 750: Loss 0.0025\n",
      "Epoch 8, Batch 800: Loss 0.0026\n",
      "Epoch 8, Batch 850: Loss 0.0026\n",
      "Epoch 8, Batch 900: Loss 0.0026\n",
      "Epoch 8, Batch 950: Loss 0.0025\n",
      "Epoch 8, Batch 1000: Loss 0.0026\n",
      "Epoch 8, Batch 1050: Loss 0.0025\n",
      "Epoch 8, Batch 1100: Loss 0.0025\n",
      "Epoch 8, Batch 1150: Loss 0.0025\n",
      "Epoch 8, Batch 1200: Loss 0.0026\n",
      "Epoch 8, Batch 1250: Loss 0.0025\n",
      "Epoch 8, Batch 1300: Loss 0.0025\n",
      "Epoch 8, Batch 1350: Loss 0.0025\n",
      "Epoch 8, Batch 1400: Loss 0.0025\n",
      "Epoch 8, Batch 1450: Loss 0.0026\n",
      "Epoch 8, Batch 1500: Loss 0.0025\n",
      "Epoch 8, Batch 1550: Loss 0.0025\n",
      "Epoch 8, Batch 1600: Loss 0.0025\n",
      "Epoch 8, Batch 1650: Loss 0.0025\n",
      "Epoch 8, Batch 1700: Loss 0.0025\n",
      "Epoch 8, Batch 1750: Loss 0.0025\n",
      "Epoch 8, Batch 1800: Loss 0.0026\n",
      "Epoch 8, Batch 1850: Loss 0.0026\n",
      "Epoch 8, Batch 1900: Loss 0.0025\n",
      "Epoch 8, Batch 1950: Loss 0.0025\n",
      "Epoch 8, Batch 2000: Loss 0.0025\n",
      "Model saved: model_epoch_8.pth\n"
     ]
    },
    {
     "data": {
      "text/html": [
       "<a href='model_epoch_8.pth' target='_blank'>model_epoch_8.pth</a><br>"
      ],
      "text/plain": [
       "/kaggle/working/model_epoch_8.pth"
      ]
     },
     "metadata": {},
     "output_type": "display_data"
    },
    {
     "name": "stdout",
     "output_type": "stream",
     "text": [
      "Epoch 8 completed\n",
      "Epoch 9, Batch 50: Loss 0.0025\n",
      "Epoch 9, Batch 100: Loss 0.0026\n",
      "Epoch 9, Batch 150: Loss 0.0026\n",
      "Epoch 9, Batch 200: Loss 0.0025\n",
      "Epoch 9, Batch 250: Loss 0.0025\n",
      "Epoch 9, Batch 300: Loss 0.0026\n",
      "Epoch 9, Batch 350: Loss 0.0025\n",
      "Epoch 9, Batch 400: Loss 0.0025\n",
      "Epoch 9, Batch 450: Loss 0.0026\n",
      "Epoch 9, Batch 500: Loss 0.0025\n",
      "Epoch 9, Batch 550: Loss 0.0025\n",
      "Epoch 9, Batch 600: Loss 0.0025\n",
      "Epoch 9, Batch 650: Loss 0.0025\n",
      "Epoch 9, Batch 700: Loss 0.0025\n",
      "Epoch 9, Batch 750: Loss 0.0025\n",
      "Epoch 9, Batch 800: Loss 0.0025\n",
      "Epoch 9, Batch 850: Loss 0.0026\n",
      "Epoch 9, Batch 900: Loss 0.0025\n",
      "Epoch 9, Batch 950: Loss 0.0025\n",
      "Epoch 9, Batch 1000: Loss 0.0025\n",
      "Epoch 9, Batch 1050: Loss 0.0025\n",
      "Epoch 9, Batch 1100: Loss 0.0025\n",
      "Epoch 9, Batch 1150: Loss 0.0025\n",
      "Epoch 9, Batch 1200: Loss 0.0025\n",
      "Epoch 9, Batch 1250: Loss 0.0025\n",
      "Epoch 9, Batch 1300: Loss 0.0026\n",
      "Epoch 9, Batch 1350: Loss 0.0026\n",
      "Epoch 9, Batch 1400: Loss 0.0026\n",
      "Epoch 9, Batch 1450: Loss 0.0026\n",
      "Epoch 9, Batch 1500: Loss 0.0025\n",
      "Epoch 9, Batch 1550: Loss 0.0025\n",
      "Epoch 9, Batch 1600: Loss 0.0025\n",
      "Epoch 9, Batch 1650: Loss 0.0026\n",
      "Epoch 9, Batch 1700: Loss 0.0026\n",
      "Epoch 9, Batch 1750: Loss 0.0025\n",
      "Epoch 9, Batch 1800: Loss 0.0025\n",
      "Epoch 9, Batch 1850: Loss 0.0026\n",
      "Epoch 9, Batch 1900: Loss 0.0025\n",
      "Epoch 9, Batch 1950: Loss 0.0026\n",
      "Epoch 9, Batch 2000: Loss 0.0026\n",
      "Model saved: model_epoch_9.pth\n"
     ]
    },
    {
     "data": {
      "text/html": [
       "<a href='model_epoch_9.pth' target='_blank'>model_epoch_9.pth</a><br>"
      ],
      "text/plain": [
       "/kaggle/working/model_epoch_9.pth"
      ]
     },
     "metadata": {},
     "output_type": "display_data"
    },
    {
     "name": "stdout",
     "output_type": "stream",
     "text": [
      "Epoch 9 completed\n",
      "Epoch 10, Batch 50: Loss 0.0025\n",
      "Epoch 10, Batch 100: Loss 0.0025\n",
      "Epoch 10, Batch 150: Loss 0.0025\n",
      "Epoch 10, Batch 200: Loss 0.0026\n",
      "Epoch 10, Batch 250: Loss 0.0026\n",
      "Epoch 10, Batch 300: Loss 0.0025\n",
      "Epoch 10, Batch 350: Loss 0.0025\n",
      "Epoch 10, Batch 400: Loss 0.0025\n",
      "Epoch 10, Batch 450: Loss 0.0026\n",
      "Epoch 10, Batch 500: Loss 0.0025\n",
      "Epoch 10, Batch 550: Loss 0.0026\n",
      "Epoch 10, Batch 600: Loss 0.0025\n",
      "Epoch 10, Batch 650: Loss 0.0026\n",
      "Epoch 10, Batch 700: Loss 0.0025\n",
      "Epoch 10, Batch 900: Loss 0.0026\n",
      "Epoch 10, Batch 950: Loss 0.0025\n",
      "Epoch 10, Batch 1000: Loss 0.0025\n",
      "Epoch 10, Batch 1050: Loss 0.0025\n",
      "Epoch 10, Batch 1100: Loss 0.0025\n",
      "Epoch 10, Batch 1150: Loss 0.0025\n",
      "Epoch 10, Batch 1200: Loss 0.0026\n",
      "Epoch 10, Batch 1250: Loss 0.0026\n",
      "Epoch 10, Batch 1300: Loss 0.0026\n",
      "Epoch 10, Batch 1350: Loss 0.0025\n",
      "Epoch 10, Batch 1400: Loss 0.0025\n",
      "Epoch 10, Batch 1450: Loss 0.0025\n",
      "Epoch 10, Batch 1500: Loss 0.0025\n",
      "Epoch 10, Batch 1550: Loss 0.0025\n",
      "Epoch 10, Batch 1600: Loss 0.0025\n",
      "Epoch 10, Batch 1650: Loss 0.0025\n",
      "Epoch 10, Batch 1700: Loss 0.0025\n",
      "Epoch 10, Batch 1750: Loss 0.0025\n",
      "Epoch 10, Batch 1800: Loss 0.0026\n",
      "Epoch 10, Batch 1850: Loss 0.0025\n",
      "Epoch 10, Batch 1900: Loss 0.0025\n",
      "Epoch 10, Batch 1950: Loss 0.0026\n",
      "Epoch 10, Batch 2000: Loss 0.0026\n",
      "Model saved: model_epoch_10.pth\n"
     ]
    },
    {
     "data": {
      "text/html": [
       "<a href='model_epoch_10.pth' target='_blank'>model_epoch_10.pth</a><br>"
      ],
      "text/plain": [
       "/kaggle/working/model_epoch_10.pth"
      ]
     },
     "metadata": {},
     "output_type": "display_data"
    },
    {
     "name": "stdout",
     "output_type": "stream",
     "text": [
      "Epoch 10 completed\n"
     ]
    }
   ],
   "source": [
    "model = PoseNet()\n",
    "\n",
    "device = 'cuda' if torch.cuda.is_available() else 'cpu'\n",
    "model = train(model, train_loader, epochs=10, device=device)"
   ]
  }
 ],
 "metadata": {
  "kaggle": {
   "accelerator": "gpu",
   "dataSources": [
    {
     "datasetId": 857191,
     "sourceId": 1462296,
     "sourceType": "datasetVersion"
    }
   ],
   "dockerImageVersionId": 30919,
   "isGpuEnabled": true,
   "isInternetEnabled": true,
   "language": "python",
   "sourceType": "notebook"
  },
  "kernelspec": {
   "display_name": "Python 3",
   "language": "python",
   "name": "python3"
  },
  "language_info": {
   "codemirror_mode": {
    "name": "ipython",
    "version": 3
   },
   "file_extension": ".py",
   "mimetype": "text/x-python",
   "name": "python",
   "nbconvert_exporter": "python",
   "pygments_lexer": "ipython3",
   "version": "3.10.12"
  }
 },
 "nbformat": 4,
 "nbformat_minor": 4
}
